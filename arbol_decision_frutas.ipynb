{
 "cells": [
  {
   "cell_type": "markdown",
   "id": "9872fea0",
   "metadata": {},
   "source": [
    "# Decision Tree "
   ]
  },
  {
   "cell_type": "markdown",
   "id": "9c925338",
   "metadata": {},
   "source": [
    "## Comentarios y Descripción del Código Python para la clasificación de frutas\n",
    "\n",
    "Este script de Python, arbol_decision_frutas.py, demuestra cómo usar un árbol de decisión para clasificar frutas (manzanas o naranjas) basándose en su peso y textura.\n",
    "\n",
    "A continuación, una descripción detallada de cada línea:\n"
   ]
  },
  {
   "cell_type": "code",
   "execution_count": 2,
   "id": "caa5c853",
   "metadata": {},
   "outputs": [],
   "source": [
    "# arbol_decision_frutas.py\n",
    "import pandas as pd"
   ]
  },
  {
   "cell_type": "markdown",
   "id": "c5890fb4",
   "metadata": {},
   "source": [
    "Esta línea importa la librería pandas, que es fundamental para trabajar con conjuntos de datos estructurados. La usaremos para crear nuestro DataFrame que contendrá la información de las frutas. Le damos el alias pd por convención."
   ]
  },
  {
   "cell_type": "code",
   "execution_count": 4,
   "id": "71b6099c",
   "metadata": {},
   "outputs": [],
   "source": [
    "from sklearn.tree import DecisionTreeClassifier"
   ]
  },
  {
   "cell_type": "markdown",
   "id": "158865f6",
   "metadata": {},
   "source": [
    "Aquí se importa la clase DecisionTreeClassifier del módulo tree de la librería scikit-learn (sklearn). Esta clase es la que se utiliza para construir y entrenar modelos de árboles de decisión para tareas de clasificación."
   ]
  },
  {
   "cell_type": "code",
   "execution_count": 6,
   "id": "e564146d",
   "metadata": {},
   "outputs": [],
   "source": [
    "from sklearn import tree"
   ]
  },
  {
   "cell_type": "markdown",
   "id": "c95339f6",
   "metadata": {},
   "source": [
    "Se importa el módulo completo tree de sklearn. Esto es necesario para usar funciones como plot_tree, que permite visualizar el árbol de decisión entrenado."
   ]
  },
  {
   "cell_type": "code",
   "execution_count": 7,
   "id": "5107e82e",
   "metadata": {},
   "outputs": [],
   "source": [
    "# Datos\n",
    "data = pd.DataFrame({\n",
    "    'peso': [150, 160, 180, 200, 120, 110],\n",
    "    'textura': [0, 0, 1, 1, 0, 0],  # 0: suave, 1: rugosa\n",
    "    'fruta': ['manzana', 'manzana', 'naranja', 'naranja', 'manzana', 'manzana']\n",
    "})"
   ]
  },
  {
   "cell_type": "markdown",
   "id": "4608c445",
   "metadata": {},
   "source": [
    "En esta sección, creamos un DataFrame de pandas llamado data. Este DataFrame contiene los datos de ejemplo que nuestro modelo usará para aprender a clasificar. Incluye tres columnas:\n",
    "\n",
    "- 'peso': El peso de la fruta en gramos.\n",
    "- 'textura': Una característica categórica donde 0 representa una textura suave (típica de manzanas) y 1 representa una textura rugosa (típica de naranjas).\n",
    "- 'fruta': La etiqueta de la clase, indicando si la fruta es una 'manzana' o una 'naranja'. Esta es nuestra variable objetivo."
   ]
  },
  {
   "cell_type": "code",
   "execution_count": 8,
   "id": "913e3337",
   "metadata": {},
   "outputs": [],
   "source": [
    "X = data[['peso', 'textura']]"
   ]
  },
  {
   "cell_type": "markdown",
   "id": "fd4d266d",
   "metadata": {},
   "source": [
    "Aquí definimos X, que son las características de entrada (también conocidas como variables predictoras o features) que el modelo utilizará para hacer sus predicciones. Seleccionamos las columnas 'peso' y 'textura' de nuestro DataFrame data."
   ]
  },
  {
   "cell_type": "code",
   "execution_count": 9,
   "id": "e01a74a8",
   "metadata": {},
   "outputs": [],
   "source": [
    "y = data['fruta']"
   ]
  },
  {
   "cell_type": "markdown",
   "id": "0c982e5a",
   "metadata": {},
   "source": [
    "Esta línea define y, que es la variable objetivo (o variable dependiente) que nuestro modelo intentará predecir. En este caso, es la columna 'fruta', que contiene el tipo de fruta."
   ]
  },
  {
   "cell_type": "code",
   "execution_count": 11,
   "id": "8b0a2df5",
   "metadata": {},
   "outputs": [],
   "source": [
    "modelo = DecisionTreeClassifier()"
   ]
  },
  {
   "cell_type": "markdown",
   "id": "866cece9",
   "metadata": {},
   "source": [
    "Se crea una instancia del clasificador de árbol de decisión DecisionTreeClassifier. Este es el objeto que representará nuestro modelo de árbol de decisión antes de que comience a aprender de los datos."
   ]
  },
  {
   "cell_type": "code",
   "execution_count": 12,
   "id": "d69118fa",
   "metadata": {},
   "outputs": [
    {
     "data": {
      "text/plain": [
       "DecisionTreeClassifier()"
      ]
     },
     "execution_count": 12,
     "metadata": {},
     "output_type": "execute_result"
    }
   ],
   "source": [
    "modelo.fit(X, y)"
   ]
  },
  {
   "cell_type": "markdown",
   "id": "1cb21aa4",
   "metadata": {},
   "source": [
    "Esta es la etapa crucial de entrenamiento del modelo. El método fit() toma las características de entrada (X) y las etiquetas objetivo (y), y a partir de ellas, el árbol de decisión aprende los patrones y las reglas para diferenciar entre manzanas y naranjas basándose en el peso y la textura."
   ]
  },
  {
   "cell_type": "code",
   "execution_count": 13,
   "id": "d6030f00",
   "metadata": {},
   "outputs": [],
   "source": [
    "nueva_fruta = [[170, 1]]"
   ]
  },
  {
   "cell_type": "markdown",
   "id": "df2bfd6a",
   "metadata": {},
   "source": [
    "Preparamos un nuevo dato para que el modelo haga una predicción. nueva_fruta es una lista de listas que representa una fruta hipotética con un peso de 170 gramos y una textura rugosa (1)."
   ]
  },
  {
   "cell_type": "code",
   "execution_count": 14,
   "id": "066f7e25",
   "metadata": {},
   "outputs": [],
   "source": [
    "prediccion = modelo.predict(nueva_fruta)"
   ]
  },
  {
   "cell_type": "markdown",
   "id": "e924abbe",
   "metadata": {},
   "source": [
    "Utilizamos el método predict() del modelo ya entrenado para clasificar la nueva_fruta. El modelo aplicará las reglas que aprendió y devolverá un resultado, que será 'manzana' o 'naranja'."
   ]
  },
  {
   "cell_type": "code",
   "execution_count": 15,
   "id": "b4e43603",
   "metadata": {},
   "outputs": [
    {
     "name": "stdout",
     "output_type": "stream",
     "text": [
      "La fruta clasificada es: naranja\n"
     ]
    }
   ],
   "source": [
    "print(\"La fruta clasificada es:\", prediccion[0])"
   ]
  },
  {
   "cell_type": "markdown",
   "id": "a6e54415",
   "metadata": {},
   "source": [
    "Finalmente, imprimimos el resultado de la predicción. prediccion[0] accede al primer (y único) elemento del array de predicciones, que será el nombre de la fruta clasificada.\n",
    "\n",
    "Este ejemplo muestra cómo los árboles de decisión son herramientas intuitivas y efectivas para la clasificación, incluso con conjuntos de datos pequeños, haciendo que conceptos complejos sean fáciles de entender."
   ]
  }
 ],
 "metadata": {
  "kernelspec": {
   "display_name": "base",
   "language": "python",
   "name": "python3"
  },
  "language_info": {
   "codemirror_mode": {
    "name": "ipython",
    "version": 3
   },
   "file_extension": ".py",
   "mimetype": "text/x-python",
   "name": "python",
   "nbconvert_exporter": "python",
   "pygments_lexer": "ipython3",
   "version": "3.9.7"
  }
 },
 "nbformat": 4,
 "nbformat_minor": 5
}
