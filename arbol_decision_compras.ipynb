{
 "cells": [
  {
   "cell_type": "markdown",
   "id": "9872fea0",
   "metadata": {},
   "source": [
    "# Decision Tree "
   ]
  },
  {
   "cell_type": "markdown",
   "id": "9c925338",
   "metadata": {},
   "source": [
    "## Comentarios y Descripción del Código Python\n",
    "\n",
    "Este script de Python, arbol_decision_compras.ipynb, muestra cómo crear, entrenar, usar y visualizar un modelo de árbol de decisión simple para predecir si un cliente realizará una compra basándose en su edad e ingresos. \n",
    "\n",
    "Aquí vas a encontrar una descripción línea por línea del código:"
   ]
  },
  {
   "cell_type": "code",
   "execution_count": 3,
   "id": "3c4dc3a6",
   "metadata": {},
   "outputs": [],
   "source": [
    "# Esta línea importa la librería pandas, que es fundamental para el manejo y análisis de datos en Python. Se le asigna el alias \"pd\" por convención para facilitar su uso.\n",
    "import pandas as pd"
   ]
  },
  {
   "cell_type": "code",
   "execution_count": 5,
   "id": "f7193283",
   "metadata": {},
   "outputs": [],
   "source": [
    "#Aquí se importa la clase DecisionTreeClassifier del módulo tree de la librería scikit-learn (sklearn). Esta clase es la que se utiliza para construir y entrenar modelos de árboles de decisión para tareas de clasificación.\n",
    "from sklearn.tree import DecisionTreeClassifier"
   ]
  },
  {
   "cell_type": "code",
   "execution_count": 6,
   "id": "41b2030f",
   "metadata": {},
   "outputs": [],
   "source": [
    "# Se importa el módulo completo tree de sklearn. Esto es necesario para usar funciones como plot_tree, que permite visualizar el árbol de decisión entrenado.\n",
    "from sklearn import tree"
   ]
  },
  {
   "cell_type": "code",
   "execution_count": 7,
   "id": "f515437f",
   "metadata": {},
   "outputs": [],
   "source": [
    "# Esta línea importa la librería matplotlib.pyplot, que es una de las librerías más populares para crear visualizaciones estáticas, animadas e interactivas en Python. Se le asigna el alias plt por convención.\n",
    "import matplotlib.pyplot as plt"
   ]
  },
  {
   "cell_type": "markdown",
   "id": "4249edbe",
   "metadata": {},
   "source": [
    "En esta sección, se crea un DataFrame de pandas llamado data. Contiene datos de ejemplo con tres columnas:\n",
    "\n",
    "- 'edad': La edad del cliente.\n",
    "- 'ingreso': El ingreso anual del cliente.\n",
    "- 'compra': La variable objetivo (0 si no compró, 1 si compró)."
   ]
  },
  {
   "cell_type": "code",
   "execution_count": 8,
   "id": "3ece2116",
   "metadata": {},
   "outputs": [],
   "source": [
    "# Datos de ejemplo\n",
    "data = pd.DataFrame({\n",
    "    'edad': [22, 25, 47, 52, 46, 56],\n",
    "    'ingreso': [15000, 18000, 25000, 30000, 28000, 32000],\n",
    "    'compra': [0, 0, 1, 1, 1, 1]\n",
    "})"
   ]
  },
  {
   "cell_type": "markdown",
   "id": "c5dac04a",
   "metadata": {},
   "source": [
    "Aquí se define la variable X, que representa las características de entrada (o variables predictoras) para el modelo. Se seleccionan las columnas 'edad' e 'ingreso' del DataFrame data."
   ]
  },
  {
   "cell_type": "code",
   "execution_count": 9,
   "id": "d7481799",
   "metadata": {},
   "outputs": [],
   "source": [
    "X = data[['edad', 'ingreso']]"
   ]
  },
  {
   "cell_type": "markdown",
   "id": "37bbb484",
   "metadata": {},
   "source": [
    "Esta línea define la variable y, que es la variable objetivo (o variable dependiente) que el modelo intentará predecir. En este caso, es la columna 'compra'."
   ]
  },
  {
   "cell_type": "code",
   "execution_count": 10,
   "id": "00ee40ef",
   "metadata": {},
   "outputs": [],
   "source": [
    "y = data['compra']"
   ]
  },
  {
   "cell_type": "markdown",
   "id": "3166068d",
   "metadata": {},
   "source": [
    "Se crea una instancia del clasificador de árbol de decisión DecisionTreeClassifier. Este es el objeto que contendrá el modelo de árbol de decisión antes de ser entrenado."
   ]
  },
  {
   "cell_type": "code",
   "execution_count": 11,
   "id": "d7fd0036",
   "metadata": {},
   "outputs": [],
   "source": [
    "modelo = DecisionTreeClassifier()"
   ]
  },
  {
   "cell_type": "markdown",
   "id": "05231e58",
   "metadata": {},
   "source": [
    "Esta es una de las líneas más importantes: se entrena el modelo (modelo) utilizando los datos de entrenamiento. El método fit() ajusta el árbol de decisión a los datos de entrada X y las etiquetas objetivo y."
   ]
  },
  {
   "cell_type": "code",
   "execution_count": 12,
   "id": "af4024e7",
   "metadata": {},
   "outputs": [
    {
     "data": {
      "text/plain": [
       "DecisionTreeClassifier()"
      ]
     },
     "execution_count": 12,
     "metadata": {},
     "output_type": "execute_result"
    }
   ],
   "source": [
    "modelo.fit(X, y)"
   ]
  },
  {
   "cell_type": "markdown",
   "id": "6901e893",
   "metadata": {},
   "source": [
    "Aquí se prepara un nuevo punto de datos para realizar una predicción. nuevo_cliente es una lista que contiene la edad (30) y el ingreso (20000) de un cliente hipotético."
   ]
  },
  {
   "cell_type": "code",
   "execution_count": 13,
   "id": "ddad03f6",
   "metadata": {},
   "outputs": [],
   "source": [
    "# Predicción\n",
    "nuevo_cliente = [[30, 20000]]"
   ]
  },
  {
   "cell_type": "markdown",
   "id": "7b12c382",
   "metadata": {},
   "source": [
    "El método predict() del modelo entrenado se utiliza para realizar una predicción sobre el nuevo_cliente. El resultado será un array (en este caso, de un solo elemento) indicando si el modelo predice una compra (1) o no compra (0)."
   ]
  },
  {
   "cell_type": "code",
   "execution_count": 14,
   "id": "0a31678a",
   "metadata": {},
   "outputs": [],
   "source": [
    "resultado = modelo.predict(nuevo_cliente)"
   ]
  },
  {
   "cell_type": "markdown",
   "id": "c1b25d31",
   "metadata": {},
   "source": [
    "Esta línea imprime el resultado de la predicción de una manera legible. Utiliza un operador ternario para mostrar \"Sí\" si el resultado de la predicción es 1 y \"No\" si es 0."
   ]
  },
  {
   "cell_type": "code",
   "execution_count": 15,
   "id": "accc4a10",
   "metadata": {},
   "outputs": [
    {
     "name": "stdout",
     "output_type": "stream",
     "text": [
      "¿Comprará el nuevo cliente?: No\n"
     ]
    }
   ],
   "source": [
    "print(\"¿Comprará el nuevo cliente?:\", \"Sí\" if resultado[0] == 1 else \"No\")"
   ]
  },
  {
   "cell_type": "markdown",
   "id": "3b94b1fa",
   "metadata": {},
   "source": [
    "Se crea una nueva figura de matplotlib con un tamaño específico (10x6 pulgadas) para la visualización del árbol."
   ]
  },
  {
   "cell_type": "code",
   "execution_count": 17,
   "id": "a021082f",
   "metadata": {},
   "outputs": [
    {
     "data": {
      "text/plain": [
       "<Figure size 720x432 with 0 Axes>"
      ]
     },
     "execution_count": 17,
     "metadata": {},
     "output_type": "execute_result"
    },
    {
     "data": {
      "text/plain": [
       "<Figure size 720x432 with 0 Axes>"
      ]
     },
     "metadata": {},
     "output_type": "display_data"
    }
   ],
   "source": [
    "# Visualizar el árbol\n",
    "plt.figure(figsize=(10,6))"
   ]
  },
  {
   "cell_type": "markdown",
   "id": "42966e15",
   "metadata": {},
   "source": [
    "Esta es la línea que visualiza el árbol de decisión.\n",
    "\n",
    "- modelo: El árbol de decisión entrenado que se va a graficar.\n",
    "- feature_names: Una lista con los nombres de las características para que se muestren en los nodos del árbol.\n",
    "- class_names: Una lista con los nombres de las clases (0 y 1) para que se muestren en los nodos de hoja.\n",
    "- filled=True: Hace que los nodos del árbol se coloreen según la clase dominante, lo que ayuda a la interpretación."
   ]
  },
  {
   "cell_type": "code",
   "execution_count": 18,
   "id": "1b50604f",
   "metadata": {},
   "outputs": [
    {
     "data": {
      "text/plain": [
       "[Text(167.4, 163.07999999999998, 'ingreso <= 21500.0\\ngini = 0.444\\nsamples = 6\\nvalue = [2, 4]\\nclass = Sí'),\n",
       " Text(83.7, 54.360000000000014, 'gini = 0.0\\nsamples = 2\\nvalue = [2, 0]\\nclass = No'),\n",
       " Text(251.10000000000002, 54.360000000000014, 'gini = 0.0\\nsamples = 4\\nvalue = [0, 4]\\nclass = Sí')]"
      ]
     },
     "execution_count": 18,
     "metadata": {},
     "output_type": "execute_result"
    },
    {
     "data": {
      "image/png": "[encoded data removed]",
      "text/plain": [
       "<Figure size 432x288 with 1 Axes>"
      ]
     },
     "metadata": {
      "needs_background": "light"
     },
     "output_type": "display_data"
    }
   ],
   "source": [
    "tree.plot_tree(modelo, feature_names=['edad', 'ingreso'], class_names=['No', 'Sí'], filled=True)"
   ]
  },
  {
   "cell_type": "markdown",
   "id": "170594e1",
   "metadata": {},
   "source": [
    "Finalmente, esta línea muestra el gráfico del árbol de decisión que se ha generado."
   ]
  },
  {
   "cell_type": "code",
   "execution_count": 19,
   "id": "217ef488",
   "metadata": {},
   "outputs": [],
   "source": [
    "plt.show()"
   ]
  }
 ],
 "metadata": {
  "kernelspec": {
   "display_name": "base",
   "language": "python",
   "name": "python3"
  },
  "language_info": {
   "codemirror_mode": {
    "name": "ipython",
    "version": 3
   },
   "file_extension": ".py",
   "mimetype": "text/x-python",
   "name": "python",
   "nbconvert_exporter": "python",
   "pygments_lexer": "ipython3",
   "version": "3.9.7"
  }
 },
 "nbformat": 4,
 "nbformat_minor": 5
}
