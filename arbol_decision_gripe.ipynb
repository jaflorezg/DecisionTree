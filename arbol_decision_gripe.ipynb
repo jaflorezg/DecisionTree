{
 "cells": [
  {
   "cell_type": "markdown",
   "id": "9872fea0",
   "metadata": {},
   "source": [
    "# Decision Tree "
   ]
  },
  {
   "cell_type": "markdown",
   "id": "9c925338",
   "metadata": {},
   "source": [
    "## Comentarios y Descripción del Código Python para el Diagnóstico de Gripe\n",
    "\n",
    "Este script de Python, arbol_decision_gripe.py, ilustra un caso simple de diagnóstico médico usando un árbol de decisión. El objetivo es predecir si un paciente tiene gripe basándose en la presencia o ausencia de ciertos síntomas. \n",
    "\n",
    "A continuación, una descripción detallada de cada línea:\n"
   ]
  },
  {
   "cell_type": "code",
   "execution_count": 2,
   "id": "caa5c853",
   "metadata": {},
   "outputs": [],
   "source": [
    "# arbol_decision_gripe.py\n",
    "import pandas as pd"
   ]
  },
  {
   "cell_type": "markdown",
   "id": "c5890fb4",
   "metadata": {},
   "source": [
    "Esta línea importa la librería pandas, que es fundamental para el manejo y análisis de datos en Python. Se le asigna el alias pd por convención para facilitar su uso."
   ]
  },
  {
   "cell_type": "code",
   "execution_count": 4,
   "id": "71b6099c",
   "metadata": {},
   "outputs": [],
   "source": [
    "from sklearn.tree import DecisionTreeClassifier"
   ]
  },
  {
   "cell_type": "markdown",
   "id": "158865f6",
   "metadata": {},
   "source": [
    "Aquí se importa la clase DecisionTreeClassifier del módulo tree de la librería scikit-learn (sklearn). Esta clase es la que se utiliza para construir y entrenar modelos de árboles de decisión para tareas de clasificación."
   ]
  },
  {
   "cell_type": "code",
   "execution_count": 5,
   "id": "e564146d",
   "metadata": {},
   "outputs": [],
   "source": [
    "from sklearn import tree"
   ]
  },
  {
   "cell_type": "markdown",
   "id": "c95339f6",
   "metadata": {},
   "source": [
    "Se importa el módulo completo tree de sklearn. Esto es necesario para usar funciones como plot_tree, que permite visualizar el árbol de decisión entrenado."
   ]
  },
  {
   "cell_type": "code",
   "execution_count": 6,
   "id": "5107e82e",
   "metadata": {},
   "outputs": [],
   "source": [
    "# Datos de ejemplo\n",
    "data = pd.DataFrame({\n",
    "    'fiebre': [1, 0, 1, 1, 0],\n",
    "    'dolor_cabeza': [1, 0, 1, 0, 0],\n",
    "    'tos': [1, 0, 1, 1, 0],\n",
    "    'gripe': [1, 0, 1, 1, 0]\n",
    "})"
   ]
  },
  {
   "cell_type": "markdown",
   "id": "4608c445",
   "metadata": {},
   "source": [
    "En esta sección, creamos un DataFrame de pandas llamado data. Contiene un conjunto de datos de ejemplo que simula registros de pacientes:\n",
    "\n",
    "- 'fiebre': Indica si el paciente tiene fiebre (1) o no (0).\n",
    "- 'dolor_cabeza': Indica si el paciente tiene dolor de cabeza (1) o no (0).\n",
    "- 'tos': Indica si el paciente tiene tos (1) o no (0).\n",
    "- 'gripe': Es nuestra variable objetivo; indica si el paciente fue diagnosticado con gripe (1) o no (0)."
   ]
  },
  {
   "cell_type": "code",
   "execution_count": 7,
   "id": "913e3337",
   "metadata": {},
   "outputs": [],
   "source": [
    "X = data[['fiebre', 'dolor_cabeza', 'tos']]"
   ]
  },
  {
   "cell_type": "markdown",
   "id": "fd4d266d",
   "metadata": {},
   "source": [
    "Aquí definimos X, que representa las características de entrada (o variables predictoras) que el modelo usará para hacer su predicción. Seleccionamos las columnas 'fiebre', 'dolor_cabeza' y 'tos' de nuestro DataFrame data."
   ]
  },
  {
   "cell_type": "code",
   "execution_count": 8,
   "id": "e01a74a8",
   "metadata": {},
   "outputs": [],
   "source": [
    "y = data['gripe']"
   ]
  },
  {
   "cell_type": "markdown",
   "id": "0c982e5a",
   "metadata": {},
   "source": [
    "Esta línea define y, que es nuestra variable objetivo (o variable dependiente) que el modelo intentará predecir. En este caso, es la columna 'gripe'."
   ]
  },
  {
   "cell_type": "code",
   "execution_count": 9,
   "id": "8b0a2df5",
   "metadata": {},
   "outputs": [],
   "source": [
    "modelo = DecisionTreeClassifier()"
   ]
  },
  {
   "cell_type": "markdown",
   "id": "866cece9",
   "metadata": {},
   "source": [
    "Se crea una instancia del clasificador de árbol de decisión DecisionTreeClassifier. Este objeto vacío está listo para ser entrenado con nuestros datos."
   ]
  },
  {
   "cell_type": "code",
   "execution_count": 10,
   "id": "d69118fa",
   "metadata": {},
   "outputs": [
    {
     "data": {
      "text/plain": [
       "DecisionTreeClassifier()"
      ]
     },
     "execution_count": 10,
     "metadata": {},
     "output_type": "execute_result"
    }
   ],
   "source": [
    "modelo.fit(X, y)"
   ]
  },
  {
   "cell_type": "markdown",
   "id": "1cb21aa4",
   "metadata": {},
   "source": [
    "Esta es la etapa de entrenamiento del modelo. El método fit() toma las características de entrada (X) y la variable objetivo (y) y construye el árbol de decisión, aprendiendo los patrones y reglas que relacionan los síntomas con el diagnóstico de gripe."
   ]
  },
  {
   "cell_type": "code",
   "execution_count": 11,
   "id": "d6030f00",
   "metadata": {},
   "outputs": [],
   "source": [
    "paciente = [[1, 1, 0]]  # Tiene fiebre y dolor de cabeza, pero no tos"
   ]
  },
  {
   "cell_type": "markdown",
   "id": "df2bfd6a",
   "metadata": {},
   "source": [
    "Se prepara un nuevo punto de datos para realizar una predicción. paciente es una lista de listas que representa a un nuevo paciente con síntomas específicos: tiene fiebre (1), dolor de cabeza (1), pero no tiene tos (0)."
   ]
  },
  {
   "cell_type": "code",
   "execution_count": 12,
   "id": "066f7e25",
   "metadata": {},
   "outputs": [],
   "source": [
    "prediccion = modelo.predict(paciente)"
   ]
  },
  {
   "cell_type": "markdown",
   "id": "e924abbe",
   "metadata": {},
   "source": [
    "El método predict() del modelo entrenado se utiliza para realizar una predicción sobre el paciente nuevo. El resultado será un array (en este caso, de un solo elemento) indicando si el modelo predice gripe (1) o no gripe (0) para este paciente."
   ]
  },
  {
   "cell_type": "code",
   "execution_count": 13,
   "id": "b4e43603",
   "metadata": {},
   "outputs": [
    {
     "name": "stdout",
     "output_type": "stream",
     "text": [
      "¿El paciente tiene gripe?: Sí\n"
     ]
    }
   ],
   "source": [
    "print(\"¿El paciente tiene gripe?:\", \"Sí\" if prediccion[0] == 1 else \"No\")"
   ]
  },
  {
   "cell_type": "markdown",
   "id": "a6e54415",
   "metadata": {},
   "source": [
    "Finalmente, esta línea imprime el resultado de la predicción de una manera fácil de entender. Utiliza un operador ternario para mostrar \"Sí\" si la predicción es 1 (gripe) y \"No\" si es 0 (no gripe)."
   ]
  },
  {
   "cell_type": "markdown",
   "id": "e2fc70f5",
   "metadata": {},
   "source": [
    "Este ejemplo simple ilustra cómo un árbol de decisión puede ser una herramienta efectiva para clasificar datos, incluso con un conjunto de datos pequeño, y es una excelente introducción a los conceptos de aprendizaje automático."
   ]
  }
 ],
 "metadata": {
  "kernelspec": {
   "display_name": "base",
   "language": "python",
   "name": "python3"
  },
  "language_info": {
   "codemirror_mode": {
    "name": "ipython",
    "version": 3
   },
   "file_extension": ".py",
   "mimetype": "text/x-python",
   "name": "python",
   "nbconvert_exporter": "python",
   "pygments_lexer": "ipython3",
   "version": "3.9.7"
  }
 },
 "nbformat": 4,
 "nbformat_minor": 5
}
